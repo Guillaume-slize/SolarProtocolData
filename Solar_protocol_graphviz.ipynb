{
 "cells": [
  {
   "cell_type": "code",
   "execution_count": 36,
   "metadata": {},
   "outputs": [],
   "source": [
    "import graphviz\n",
    "import requests\n",
    "import json\n",
    "from json.decoder import JSONDecodeError\n",
    "from IPython.display import Image\n",
    "import graphviz\n"
   ]
  },
  {
   "cell_type": "markdown",
   "metadata": {},
   "source": [
    "# Parameters"
   ]
  },
  {
   "cell_type": "code",
   "execution_count": 37,
   "metadata": {},
   "outputs": [],
   "source": [
    "param = \"PV-voltage\"\n",
    "baseURL = 'http://solarprotocol.net/api/v2/opendata.php?line=0'\n",
    "offLineData = \"../../data/0-single-value.json\"\n",
    "\n",
    "ccValue = \"\"\n"
   ]
  },
  {
   "cell_type": "markdown",
   "metadata": {},
   "source": [
    "# Functions"
   ]
  },
  {
   "cell_type": "code",
   "execution_count": 38,
   "metadata": {},
   "outputs": [],
   "source": [
    "def getCCData(ccValue):\n",
    "    try:\n",
    "        x = requests.get(baseURL+ccValue,timeout=5)\n",
    "        print(\"API charge controller data:\")\n",
    "        print(x.text)\n",
    "        x.json()\n",
    "        return json.loads(x.text)\n",
    "    except JSONDecodeError as errj:\n",
    "        print(\"A JSON decode error:\" + repr(errj))\n",
    "    except requests.exceptions.HTTPError as errh:\n",
    "        print(\"An Http Error occurred:\" + repr(errh))\n",
    "    except requests.exceptions.ConnectionError as errc:\n",
    "        print(\"An Error Connecting to the API occurred:\" + repr(errc))\n",
    "    except requests.exceptions.Timeout as errt:\n",
    "        print(\"A Timeout Error occurred:\" + repr(errt))\n",
    "    except requests.exceptions.RequestException as err:\n",
    "        print(\"An Unknown Error occurred\" + repr(err))"
   ]
  },
  {
   "cell_type": "markdown",
   "metadata": {},
   "source": [
    "# Get data\n",
    "\n",
    "Possible data:\n",
    "\n",
    "    PV-current\n",
    "    PV-current\n",
    "    PV-power-H\n",
    "    PV-power-L\n",
    "    PV-voltage\n",
    "    battery-percentage\n",
    "    battery-voltage\n",
    "    charge-current\n",
    "    charge-power-H\n",
    "    charge-power-L\n",
    "    load-current\n",
    "    load-power\n",
    "    load-voltage\n",
    "    datetime\n",
    "    scaled-wattage\n"
   ]
  },
  {
   "cell_type": "code",
   "execution_count": 39,
   "metadata": {},
   "outputs": [
    {
     "name": "stdout",
     "output_type": "stream",
     "text": [
      "API charge controller data:\n",
      "{\"0battery-percentage\":{\"datetime\":\"2022-03-13 14:37:43.764754\",\"PV-voltage\":\"18.44\",\"PV-current\":\"1.57\",\"PV-power-L\":\"29.09\",\"PV-power-H\":\"0.0\",\"battery-voltage\":\"13.99\",\"battery-current\":\"2.08\",\"battery-power-L\":\"29.09\",\"battery-power-H\":\"0.0\",\"load-voltage\":\"13.99\",\"load-current\":\"0.19\",\"load-power\":\"2.65\",\"battery-percentage\":\"1.0\"},\"timezone\":\"Europe/Berlin\"}\n"
     ]
    }
   ],
   "source": [
    "getResult = getCCData(\"battery-percentage\")   "
   ]
  },
  {
   "cell_type": "code",
   "execution_count": 40,
   "metadata": {},
   "outputs": [
    {
     "name": "stdout",
     "output_type": "stream",
     "text": [
      "{'0battery-percentage': {'datetime': '2022-03-13 14:37:43.764754', 'PV-voltage': '18.44', 'PV-current': '1.57', 'PV-power-L': '29.09', 'PV-power-H': '0.0', 'battery-voltage': '13.99', 'battery-current': '2.08', 'battery-power-L': '29.09', 'battery-power-H': '0.0', 'load-voltage': '13.99', 'load-current': '0.19', 'load-power': '2.65', 'battery-percentage': '1.0'}, 'timezone': 'Europe/Berlin'}\n"
     ]
    }
   ],
   "source": [
    "print(getResult)"
   ]
  },
  {
   "cell_type": "code",
   "execution_count": 41,
   "metadata": {},
   "outputs": [
    {
     "data": {
      "text/plain": [
       "{'datetime': '2022-03-13 14:37:43.764754',\n",
       " 'PV-voltage': '18.44',\n",
       " 'PV-current': '1.57',\n",
       " 'PV-power-L': '29.09',\n",
       " 'PV-power-H': '0.0',\n",
       " 'battery-voltage': '13.99',\n",
       " 'battery-current': '2.08',\n",
       " 'battery-power-L': '29.09',\n",
       " 'battery-power-H': '0.0',\n",
       " 'load-voltage': '13.99',\n",
       " 'load-current': '0.19',\n",
       " 'load-power': '2.65',\n",
       " 'battery-percentage': '1.0'}"
      ]
     },
     "execution_count": 41,
     "metadata": {},
     "output_type": "execute_result"
    }
   ],
   "source": [
    "list_values = list(getResult.values())[0]\n",
    "list_values"
   ]
  },
  {
   "cell_type": "markdown",
   "metadata": {},
   "source": [
    "# Get values from data"
   ]
  },
  {
   "cell_type": "code",
   "execution_count": 42,
   "metadata": {},
   "outputs": [
    {
     "data": {
      "text/plain": [
       "'PV-voltage'"
      ]
     },
     "execution_count": 42,
     "metadata": {},
     "output_type": "execute_result"
    }
   ],
   "source": [
    "name = list(list_values.keys())[1]\n",
    "PV_voltage = list(list_values.values())[1]\n",
    "battery_voltage = list(list_values.values())[5]\n",
    "battery_percentage = list(list_values.values())[12]\n",
    "battery_percentage= float(battery_percentage)*100\n",
    "battery_percentage=str(battery_percentage)\n",
    "name"
   ]
  },
  {
   "cell_type": "code",
   "execution_count": 43,
   "metadata": {},
   "outputs": [
    {
     "data": {
      "text/plain": [
       "'PV-voltage'"
      ]
     },
     "execution_count": 43,
     "metadata": {},
     "output_type": "execute_result"
    }
   ],
   "source": [
    "param\n"
   ]
  },
  {
   "cell_type": "code",
   "execution_count": 44,
   "metadata": {},
   "outputs": [
    {
     "data": {
      "image/svg+xml": [
       "<?xml version=\"1.0\" encoding=\"UTF-8\" standalone=\"no\"?>\n",
       "<!DOCTYPE svg PUBLIC \"-//W3C//DTD SVG 1.1//EN\"\n",
       " \"http://www.w3.org/Graphics/SVG/1.1/DTD/svg11.dtd\">\n",
       "<!-- Generated by graphviz version 2.40.1 (20161225.0304)\n",
       " -->\n",
       "<!-- Title: %3 Pages: 1 -->\n",
       "<svg width=\"683pt\" height=\"117pt\"\n",
       " viewBox=\"0.00 0.00 682.92 117.38\" xmlns=\"http://www.w3.org/2000/svg\" xmlns:xlink=\"http://www.w3.org/1999/xlink\">\n",
       "<g id=\"graph0\" class=\"graph\" transform=\"scale(1 1) rotate(0) translate(4 113.3765)\">\n",
       "<title>%3</title>\n",
       "<polygon fill=\"#000000\" stroke=\"transparent\" points=\"-4,4 -4,-113.3765 678.9189,-113.3765 678.9189,4 -4,4\"/>\n",
       "<!-- PV -->\n",
       "<g id=\"node1\" class=\"node\">\n",
       "<title>PV</title>\n",
       "<polygon fill=\"none\" stroke=\"#fffff5\" points=\"108.4428,-108.4428 -.1479,-108.4428 -.1479,.1479 108.4428,.1479 108.4428,-108.4428\"/>\n",
       "<text text-anchor=\"middle\" x=\"54.1475\" y=\"-51.1475\" font-family=\"garamond\" font-size=\"10.00\" fill=\"#fffff5\">Photo Voltaic Pannel</text>\n",
       "</g>\n",
       "<!-- CC -->\n",
       "<g id=\"node6\" class=\"node\">\n",
       "<title>CC</title>\n",
       "<ellipse fill=\"none\" stroke=\"#fffff5\" cx=\"228.3784\" cy=\"-54.1475\" rx=\"48.287\" ry=\"48.287\"/>\n",
       "<ellipse fill=\"none\" stroke=\"#fffff5\" cx=\"228.3784\" cy=\"-54.1475\" rx=\"52.2786\" ry=\"52.2786\"/>\n",
       "<text text-anchor=\"middle\" x=\"228.3784\" y=\"-51.1475\" font-family=\"garamond\" font-size=\"10.00\" fill=\"#fffff5\">Charge Control</text>\n",
       "</g>\n",
       "<!-- PV&#45;&gt;CC -->\n",
       "<g id=\"edge1\" class=\"edge\">\n",
       "<title>PV&#45;&gt;CC</title>\n",
       "<path fill=\"none\" stroke=\"#fffff5\" d=\"M108.3202,-54.1475C128.1195,-54.1475 150.5814,-54.1475 170.6772,-54.1475\"/>\n",
       "<polygon fill=\"#fffff5\" stroke=\"#fffff5\" points=\"170.7322,-54.1476 170.7323,-55.8976 175.7322,-54.1475 170.7322,-54.1476\"/>\n",
       "<text text-anchor=\"middle\" x=\"142.1421\" y=\"-56.1475\" font-family=\"garamond\" font-size=\"10.00\" fill=\"#fffff5\">18.44V</text>\n",
       "</g>\n",
       "<!-- B -->\n",
       "<g id=\"node2\" class=\"node\">\n",
       "<title>B</title>\n",
       "<polygon fill=\"none\" stroke=\"#fffff5\" points=\"410.7549,-109.6076 359.8347,-109.6076 359.8347,-58.6874 410.7549,-58.6874 410.7549,-109.6076\"/>\n",
       "<text text-anchor=\"middle\" x=\"385.2948\" y=\"-92.1475\" font-family=\"garamond\" font-size=\"10.00\" fill=\"#fffff5\">Battery </text>\n",
       "<text text-anchor=\"middle\" x=\"385.2948\" y=\"-70.1475\" font-family=\"garamond\" font-size=\"10.00\" fill=\"#fffff5\">100.0%</text>\n",
       "</g>\n",
       "<!-- B&#45;&gt;CC -->\n",
       "<g id=\"edge2\" class=\"edge\">\n",
       "<title>B&#45;&gt;CC</title>\n",
       "<path fill=\"none\" stroke=\"#fffff5\" d=\"M359.8317,-67.4519C350.9126,-62.4979 340.5879,-57.713 330.4619,-55.1475 316.3079,-51.5614 300.6918,-50.1798 286.0205,-49.9552\"/>\n",
       "<polygon fill=\"#fffff5\" stroke=\"#fffff5\" points=\"285.6624,-49.9532 285.673,-48.2032 280.6625,-49.9229 285.6624,-49.9532\"/>\n",
       "<text text-anchor=\"middle\" x=\"314.6148\" y=\"-57.1475\" font-family=\"garamond\" font-size=\"10.00\" fill=\"#fffff5\">13.99V</text>\n",
       "</g>\n",
       "<!-- C -->\n",
       "<g id=\"node3\" class=\"node\">\n",
       "<title>C</title>\n",
       "<polygon fill=\"none\" stroke=\"#fffff5\" points=\"388.6878,-3.1968 390.9342,-3.2953 393.1574,-3.4428 395.3483,-3.6388 397.498,-3.8828 399.5979,-4.1741 401.6398,-4.5119 403.6155,-4.8954 405.5178,-5.3233 407.3394,-5.7947 409.0739,-6.3081 410.7151,-6.8622 412.2577,-7.4555 413.6967,-8.0862 415.0279,-8.7528 416.2476,-9.4534 417.3529,-10.186 418.3412,-10.9487 419.211,-11.7393 419.961,-12.5557 420.5908,-13.3956 421.1006,-14.2568 421.491,-15.1369 421.7633,-16.0334 421.9193,-16.944 421.9613,-17.8661 421.892,-18.7972 421.7146,-19.7347 421.4327,-20.6761 421.0502,-21.6188 420.5712,-22.5602 420.0003,-23.4977 419.342,-24.4288 418.6011,-25.3509 417.7826,-26.2615 416.8914,-27.158 415.9325,-28.0381 414.9108,-28.8993 413.8313,-29.7393 412.6987,-30.5557 411.5178,-31.3463 410.2931,-32.1089 409.0288,-32.8415 407.7291,-33.5421 406.3979,-34.2087 405.0388,-34.8395 403.6553,-35.4327 402.2505,-35.9868 400.8272,-36.5002 399.3881,-36.9716 397.9355,-37.3996 396.4716,-37.783 394.9983,-38.1208 393.5173,-38.4121 392.0302,-38.6561 390.5382,-38.8521 389.0425,-38.9996 387.5444,-39.0981 386.0448,-39.1475 384.5447,-39.1475 383.0452,-39.0981 381.547,-38.9996 380.0514,-38.8521 378.5594,-38.6561 377.0722,-38.4121 375.5912,-38.1208 374.118,-37.783 372.6541,-37.3996 371.2015,-36.9716 369.7624,-36.5002 368.3391,-35.9868 366.9343,-35.4327 365.5507,-34.8395 364.1917,-34.2087 362.8605,-33.5421 361.5608,-32.8415 360.2965,-32.1089 359.0718,-31.3463 357.8908,-30.5557 356.7583,-29.7393 355.6788,-28.8993 354.6571,-28.0381 353.6982,-27.158 352.807,-26.2615 351.9884,-25.3509 351.2476,-24.4288 350.5893,-23.4977 350.0183,-22.5602 349.5394,-21.6188 349.1569,-20.6761 348.875,-19.7347 348.6976,-18.7972 348.6283,-17.8661 348.6703,-16.944 348.8263,-16.0334 349.0986,-15.1369 349.489,-14.2568 349.9987,-13.3956 350.6286,-12.5557 351.3786,-11.7393 352.2484,-10.9487 353.2367,-10.186 354.3419,-9.4534 355.5617,-8.7528 356.8928,-8.0862 358.3319,-7.4555 359.8744,-6.8622 361.5157,-6.3081 363.2502,-5.7947 365.0718,-5.3233 366.974,-4.8954 368.9498,-4.5119 370.9916,-4.1741 373.0915,-3.8828 375.2413,-3.6388 377.4322,-3.4428 379.6554,-3.2953 381.9018,-3.1968 384.1622,-3.1475 386.4273,-3.1475 388.6878,-3.1968\"/>\n",
       "<text text-anchor=\"middle\" x=\"385.2948\" y=\"-18.1475\" font-family=\"garamond\" font-size=\"10.00\" fill=\"#fffff5\">Converter</text>\n",
       "</g>\n",
       "<!-- R -->\n",
       "<g id=\"node4\" class=\"node\">\n",
       "<title>R</title>\n",
       "<polygon fill=\"none\" stroke=\"#fffff5\" points=\"514.8895,-3.1968 517.2421,-3.2953 519.5703,-3.4428 521.8647,-3.6388 524.116,-3.8828 526.3151,-4.1741 528.4534,-4.5119 530.5225,-4.8954 532.5146,-5.3233 534.4223,-5.7947 536.2387,-6.3081 537.9575,-6.8622 539.573,-7.4555 541.08,-8.0862 542.4741,-8.7528 543.7514,-9.4534 544.9088,-10.186 545.9439,-10.9487 546.8547,-11.7393 547.6402,-12.5557 548.2998,-13.3956 548.8337,-14.2568 549.2425,-15.1369 549.5277,-16.0334 549.691,-16.944 549.735,-17.8661 549.6624,-18.7972 549.4766,-19.7347 549.1814,-20.6761 548.7808,-21.6188 548.2793,-22.5602 547.6813,-23.4977 546.992,-24.4288 546.2161,-25.3509 545.3589,-26.2615 544.4256,-27.158 543.4214,-28.0381 542.3514,-28.8993 541.2209,-29.7393 540.0348,-30.5557 538.7981,-31.3463 537.5155,-32.1089 536.1915,-32.8415 534.8304,-33.5421 533.4363,-34.2087 532.0131,-34.8395 530.5642,-35.4327 529.093,-35.9868 527.6024,-36.5002 526.0953,-36.9716 524.5741,-37.3996 523.0411,-37.783 521.4982,-38.1208 519.9473,-38.4121 518.3898,-38.6561 516.8273,-38.8521 515.2611,-38.9996 513.6922,-39.0981 512.1217,-39.1475 510.5508,-39.1475 508.9803,-39.0981 507.4114,-38.9996 505.8452,-38.8521 504.2827,-38.6561 502.7252,-38.4121 501.1743,-38.1208 499.6314,-37.783 498.0983,-37.3996 496.5771,-36.9716 495.07,-36.5002 493.5795,-35.9868 492.1083,-35.4327 490.6594,-34.8395 489.2362,-34.2087 487.8421,-33.5421 486.481,-32.8415 485.157,-32.1089 483.8743,-31.3463 482.6376,-30.5557 481.4516,-29.7393 480.3211,-28.8993 479.2511,-28.0381 478.2469,-27.158 477.3136,-26.2615 476.4564,-25.3509 475.6805,-24.4288 474.9911,-23.4977 474.3932,-22.5602 473.8916,-21.6188 473.4911,-20.6761 473.1958,-19.7347 473.0101,-18.7972 472.9375,-17.8661 472.9815,-16.944 473.1448,-16.0334 473.43,-15.1369 473.8388,-14.2568 474.3727,-13.3956 475.0323,-12.5557 475.8177,-11.7393 476.7286,-10.9487 477.7636,-10.186 478.9211,-9.4534 480.1984,-8.7528 481.5925,-8.0862 483.0995,-7.4555 484.715,-6.8622 486.4338,-6.3081 488.2502,-5.7947 490.1578,-5.3233 492.1499,-4.8954 494.2191,-4.5119 496.3574,-4.1741 498.5565,-3.8828 500.8077,-3.6388 503.1022,-3.4428 505.4304,-3.2953 507.783,-3.1968 510.1502,-3.1475 512.5223,-3.1475 514.8895,-3.1968\"/>\n",
       "<text text-anchor=\"middle\" x=\"511.3362\" y=\"-18.1475\" font-family=\"garamond\" font-size=\"10.00\" fill=\"#fffff5\">Raspberry</text>\n",
       "</g>\n",
       "<!-- C&#45;&gt;R -->\n",
       "<g id=\"edge5\" class=\"edge\">\n",
       "<title>C&#45;&gt;R</title>\n",
       "<path fill=\"none\" stroke=\"#fffff5\" d=\"M421.4132,-21.1475C436.053,-21.1475 453.0772,-21.1475 468.3494,-21.1475\"/>\n",
       "<polygon fill=\"#fffff5\" stroke=\"#fffff5\" points=\"468.4556,-21.1476 468.4556,-22.8976 473.4556,-21.1475 468.4556,-21.1476\"/>\n",
       "<text text-anchor=\"middle\" x=\"447.6325\" y=\"-23.1475\" font-family=\"garamond\" font-size=\"10.00\" fill=\"#fffff5\"> 5V</text>\n",
       "</g>\n",
       "<!-- I -->\n",
       "<g id=\"node5\" class=\"node\">\n",
       "<title>I</title>\n",
       "<polygon fill=\"none\" stroke=\"#fffff5\" points=\"656.8794,-33.1475 605.0375,-33.1475 605.0375,-9.1475 656.8794,-9.1475 656.8794,-3.1475 674.8794,-21.1475 656.8794,-39.1475 656.8794,-33.1475\"/>\n",
       "<text text-anchor=\"middle\" x=\"639.9584\" y=\"-18.1475\" font-family=\"garamond\" font-size=\"10.00\" fill=\"#fffff5\">The Internet</text>\n",
       "</g>\n",
       "<!-- R&#45;&gt;I -->\n",
       "<g id=\"edge6\" class=\"edge\">\n",
       "<title>R&#45;&gt;I</title>\n",
       "<path fill=\"none\" stroke=\"#fffff5\" d=\"M554.2707,-21.1475C568.9428,-21.1475 585.2898,-21.1475 599.7399,-21.1475\"/>\n",
       "<polygon fill=\"#fffff5\" stroke=\"#fffff5\" points=\"554.2315,-19.3976 549.2315,-21.1475 554.2314,-22.8976 554.2315,-19.3976\"/>\n",
       "<polygon fill=\"#fffff5\" stroke=\"#fffff5\" points=\"599.9711,-21.1476 599.9712,-22.8976 604.9711,-21.1475 599.9711,-21.1476\"/>\n",
       "<text text-anchor=\"middle\" x=\"577.2665\" y=\"-23.1475\" font-family=\"garamond\" font-size=\"10.00\" fill=\"#fffff5\">data</text>\n",
       "</g>\n",
       "<!-- CC&#45;&gt;B -->\n",
       "<g id=\"edge3\" class=\"edge\">\n",
       "<title>CC&#45;&gt;B</title>\n",
       "<path fill=\"none\" stroke=\"#fffff5\" d=\"M280.1936,-64.0537C304.987,-68.7938 333.8082,-74.304 354.992,-78.354\"/>\n",
       "<polygon fill=\"#fffff5\" stroke=\"#fffff5\" points=\"355.0226,-78.3598 354.6939,-80.0787 359.9336,-79.2988 355.0226,-78.3598\"/>\n",
       "<text text-anchor=\"middle\" x=\"314.6148\" y=\"-75.1475\" font-family=\"garamond\" font-size=\"10.00\" fill=\"#fffff5\">?V</text>\n",
       "</g>\n",
       "<!-- CC&#45;&gt;C -->\n",
       "<g id=\"edge4\" class=\"edge\">\n",
       "<title>CC&#45;&gt;C</title>\n",
       "<path fill=\"none\" stroke=\"#fffff5\" d=\"M279.0166,-40.6908C285.6417,-39.0795 292.354,-37.5212 298.7676,-36.1475 314.7063,-32.7335 332.4238,-29.5549 347.6544,-27.0104\"/>\n",
       "<polygon fill=\"#fffff5\" stroke=\"#fffff5\" points=\"347.7851,-26.9889 348.0708,-28.7154 352.718,-26.1724 347.7851,-26.9889\"/>\n",
       "<text text-anchor=\"middle\" x=\"314.6148\" y=\"-38.1475\" font-family=\"garamond\" font-size=\"10.00\" fill=\"#fffff5\">12V</text>\n",
       "</g>\n",
       "</g>\n",
       "</svg>\n"
      ],
      "text/plain": [
       "<graphviz.dot.Digraph at 0x7ff9480d6898>"
      ]
     },
     "execution_count": 44,
     "metadata": {},
     "output_type": "execute_result"
    }
   ],
   "source": [
    "dot = graphviz.Digraph(comment='Current Solar Protocol')\n",
    "dot = graphviz.Digraph(graph_attr={'rankdir':'LR','bgcolor':'black'})\n",
    "\n",
    "dot.attr(style='filled', color='lightgrey')\n",
    "dot.attr('node', shape='circle',color='#FFFFF5', fontcolor='#FFFFF5',fontname=\"garamond\",fontsize=\"10\")\n",
    "dot.node('PV', 'Photo Voltaic Pannel', shape=\"square\")\n",
    "dot.node('B', 'Battery \\n\\n'+battery_percentage+'%', shape=\"square\")\n",
    "dot.node('C', 'Converter', shape=\"egg\")\n",
    "dot.node('R', 'Raspberry', shape=\"egg\")\n",
    "dot.node('I', 'The Internet', shape=\"rarrow\")\n",
    "\n",
    "\n",
    "dot.attr('node', shape='doublecircle')\n",
    "dot.node('CC', 'Charge Control')\n",
    "\n",
    "dot.edge('PV', 'CC', label=PV_voltage+\"V\")\n",
    "dot.edge('B', 'CC', label=battery_voltage+\"V\")\n",
    "dot.edge('CC', 'B', label=\"?\"+\"V\")\n",
    "dot.edge('CC', 'C', label='12V', shape=\"egg\")\n",
    "dot.edge('C', 'R', label=' 5V', shape=\"egg\")\n",
    "dot.edge('R', 'I', label='data', shape=\"egg\",dir=\"both\")\n",
    "\n",
    "dot.edge_attr.update(arrowhead='lnormal', arrowsize='0.5', color=\"#FFFFF5\", fontcolor='#FFFFF5',fontname=\"garamond\",fontsize=\"10\")\n",
    "dot\n"
   ]
  },
  {
   "cell_type": "markdown",
   "metadata": {},
   "source": [
    "Made for Solar Protocol by Guillaume Slizewicz during Fiber Natural Intelligences Lab"
   ]
  },
  {
   "cell_type": "code",
   "execution_count": null,
   "metadata": {},
   "outputs": [],
   "source": []
  }
 ],
 "metadata": {
  "kernelspec": {
   "display_name": "Python 3",
   "language": "python",
   "name": "python3"
  },
  "language_info": {
   "codemirror_mode": {
    "name": "ipython",
    "version": 3
   },
   "file_extension": ".py",
   "mimetype": "text/x-python",
   "name": "python",
   "nbconvert_exporter": "python",
   "pygments_lexer": "ipython3",
   "version": "3.6.8"
  }
 },
 "nbformat": 4,
 "nbformat_minor": 2
}
