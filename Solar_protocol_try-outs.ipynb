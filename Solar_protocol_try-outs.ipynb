{
 "cells": [
  {
   "cell_type": "code",
   "execution_count": 1,
   "metadata": {},
   "outputs": [],
   "source": [
    "import gizeh as gz\n",
    "import requests\n",
    "import json\n",
    "from json.decoder import JSONDecodeError\n",
    "from IPython.display import Image"
   ]
  },
  {
   "cell_type": "markdown",
   "metadata": {},
   "source": [
    "# Parameters"
   ]
  },
  {
   "cell_type": "code",
   "execution_count": 2,
   "metadata": {},
   "outputs": [],
   "source": [
    "param = \"PV-voltage\"\n",
    "baseURL = 'http://solarprotocol.net/api/v2/opendata.php?value='\n",
    "offLineData = \"../../data/0-single-value.json\"\n",
    "\n",
    "ccValue = \"PV-voltage\"\n",
    "\n",
    "Pi = 3.14\n",
    "\n",
    "L = 1000 # Image dimension\n"
   ]
  },
  {
   "cell_type": "markdown",
   "metadata": {},
   "source": [
    "# Functions"
   ]
  },
  {
   "cell_type": "code",
   "execution_count": 3,
   "metadata": {},
   "outputs": [],
   "source": [
    "def getCCData(ccValue):\n",
    "    try:\n",
    "        x = requests.get(baseURL+ccValue,timeout=5)\n",
    "        print(\"API charge controller data:\")\n",
    "        print(x.text)\n",
    "        x.json()\n",
    "        return json.loads(x.text)\n",
    "    except JSONDecodeError as errj:\n",
    "        print(\"A JSON decode error:\" + repr(errj))\n",
    "    except requests.exceptions.HTTPError as errh:\n",
    "        print(\"An Http Error occurred:\" + repr(errh))\n",
    "    except requests.exceptions.ConnectionError as errc:\n",
    "        print(\"An Error Connecting to the API occurred:\" + repr(errc))\n",
    "    except requests.exceptions.Timeout as errt:\n",
    "        print(\"A Timeout Error occurred:\" + repr(errt))\n",
    "    except requests.exceptions.RequestException as err:\n",
    "        print(\"An Unknown Error occurred\" + repr(err))"
   ]
  },
  {
   "cell_type": "markdown",
   "metadata": {},
   "source": [
    "# Get data\n",
    "\n",
    "Possible data:\n",
    "\n",
    "    PV-current\n",
    "    PV-current\n",
    "    PV-power-H\n",
    "    PV-power-L\n",
    "    PV-voltage\n",
    "    battery-percentage\n",
    "    battery-voltage\n",
    "    charge-current\n",
    "    charge-power-H\n",
    "    charge-power-L\n",
    "    load-current\n",
    "    load-power\n",
    "    load-voltage\n",
    "    datetime\n",
    "    scaled-wattage\n"
   ]
  },
  {
   "cell_type": "code",
   "execution_count": 4,
   "metadata": {},
   "outputs": [
    {
     "name": "stdout",
     "output_type": "stream",
     "text": [
      "API charge controller data:\n",
      "{\"battery-percentage\":\"1.0\"}\n"
     ]
    }
   ],
   "source": [
    "getResult = getCCData(\"battery-percentage\")   "
   ]
  },
  {
   "cell_type": "markdown",
   "metadata": {},
   "source": [
    "# Get values from data"
   ]
  },
  {
   "cell_type": "code",
   "execution_count": 5,
   "metadata": {},
   "outputs": [
    {
     "data": {
      "text/plain": [
       "'battery-percentage'"
      ]
     },
     "execution_count": 5,
     "metadata": {},
     "output_type": "execute_result"
    }
   ],
   "source": [
    "name = list(getResult.keys())[0]\n",
    "param = float(list(getResult.values())[0])\n",
    "string_param = list(getResult.values())[0]\n",
    "name"
   ]
  },
  {
   "cell_type": "code",
   "execution_count": 6,
   "metadata": {},
   "outputs": [
    {
     "data": {
      "text/plain": [
       "1.0"
      ]
     },
     "execution_count": 6,
     "metadata": {},
     "output_type": "execute_result"
    }
   ],
   "source": [
    "param"
   ]
  },
  {
   "cell_type": "markdown",
   "metadata": {},
   "source": [
    "# Initialiste the surface"
   ]
  },
  {
   "cell_type": "code",
   "execution_count": 7,
   "metadata": {},
   "outputs": [],
   "source": [
    "surface = gz.Surface(L,L, bg_color=(255,255,233))"
   ]
  },
  {
   "cell_type": "markdown",
   "metadata": {},
   "source": [
    "# Draw the text"
   ]
  },
  {
   "cell_type": "code",
   "execution_count": 125,
   "metadata": {},
   "outputs": [
    {
     "data": {
      "text/plain": [
       "<gizeh.gizeh.Element at 0x7ffa8d6944a8>"
      ]
     },
     "execution_count": 125,
     "metadata": {},
     "output_type": "execute_result"
    }
   ],
   "source": [
    "\n",
    "\n",
    "txt2 = gz.text(name, fontfamily=\"serif\",  fontsize=20, fill=(0,0,0), xy=(500,80), angle=0/12)\n",
    "txt2.draw(surface)\n",
    "txt2\n",
    "\n",
    "circle = gz.circle(r=param*100, xy= [500,500], fill=(250,250,250), stroke_width= 2)\n",
    "circle.draw(surface)\n",
    "circle\n",
    "\n",
    "txt = gz.text(string_param, fontfamily=\"serif\",  fontsize=20, fill=(0,0,0), xy=(500,500), angle=0/12)\n",
    "txt.draw(surface)\n",
    "txt"
   ]
  },
  {
   "cell_type": "markdown",
   "metadata": {},
   "source": [
    "# Save"
   ]
  },
  {
   "cell_type": "code",
   "execution_count": 126,
   "metadata": {},
   "outputs": [],
   "source": [
    "surface.write_to_png(\"single-value.png\")"
   ]
  },
  {
   "cell_type": "markdown",
   "metadata": {},
   "source": [
    "# Display"
   ]
  },
  {
   "cell_type": "code",
   "execution_count": 127,
   "metadata": {},
   "outputs": [
    {
     "data": {
      "image/png": "[encoded data removed]",
      "text/plain": [
       "<IPython.core.display.Image object>"
      ]
     },
     "execution_count": 127,
     "metadata": {},
     "output_type": "execute_result"
    }
   ],
   "source": [
    "Image(filename='single-value.png') "
   ]
  },
  {
   "cell_type": "markdown",
   "metadata": {},
   "source": [
    "Made by Guillaume Slizewicz during Fiber Natural Intelligences lab"
   ]
  },
  {
   "cell_type": "code",
   "execution_count": null,
   "metadata": {},
   "outputs": [],
   "source": []
  },
  {
   "cell_type": "code",
   "execution_count": null,
   "metadata": {},
   "outputs": [],
   "source": []
  }
 ],
 "metadata": {
  "kernelspec": {
   "display_name": "Python 3",
   "language": "python",
   "name": "python3"
  },
  "language_info": {
   "codemirror_mode": {
    "name": "ipython",
    "version": 3
   },
   "file_extension": ".py",
   "mimetype": "text/x-python",
   "name": "python",
   "nbconvert_exporter": "python",
   "pygments_lexer": "ipython3",
   "version": "3.6.8"
  }
 },
 "nbformat": 4,
 "nbformat_minor": 2
}
